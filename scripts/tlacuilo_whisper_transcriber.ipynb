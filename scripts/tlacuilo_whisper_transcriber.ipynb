{
 "cells": [
  {
   "cell_type": "code",
   "execution_count": 1,
   "metadata": {},
   "outputs": [],
   "source": [
    "# Ensure you have ffmpeg installed locally\n",
    "\n",
    "import whisper    \n",
    "# Initialize Whisper model\n",
    "model = whisper.load_model(\"large-v2\")"
   ]
  },
  {
   "cell_type": "code",
   "execution_count": 3,
   "metadata": {},
   "outputs": [
    {
     "name": "stdout",
     "output_type": "stream",
     "text": [
      "Watching directory: ../audio_files_drop\n"
     ]
    }
   ],
   "source": [
    "import os\n",
    "import shutil\n",
    "import time\n",
    "from watchdog.observers import Observer\n",
    "from watchdog.events import FileSystemEventHandler\n",
    "\n",
    "from pydub import AudioSegment\n",
    "\n",
    "class AudioFileHandler(FileSystemEventHandler):\n",
    "    def __init__(self, model, output_dir, processed_dir):\n",
    "        self.model = model\n",
    "        self.output_dir = output_dir\n",
    "        self.processed_dir = processed_dir\n",
    "\n",
    "    def on_created(self, event):\n",
    "        if not event.is_directory:\n",
    "            self.process_file(event.src_path)\n",
    "\n",
    "    def process_file(self, file_path):\n",
    "        try:\n",
    "            # Check if the file is an audio file\n",
    "            if file_path.lower().endswith(('.wav', '.mp3', '.m4a')):\n",
    "                print(f\"Processing file: {file_path}\")\n",
    "\n",
    "                # Convert audio file to WAV if necessary\n",
    "                if not file_path.lower().endswith('.wav'):\n",
    "                    audio = AudioSegment.from_file(file_path)\n",
    "                    output_audio_file = file_path[:-3] + \"wav\"\n",
    "                    audio.export(output_audio_file, format=\"wav\")\n",
    "                    convert = True\n",
    "                else:\n",
    "                    output_audio_file = file_path\n",
    "\n",
    "                # Transcribe audio using Whisper\n",
    "                result = self.model.transcribe(output_audio_file)\n",
    "\n",
    "                # Extract transcription text\n",
    "                transcription_text = result['text']\n",
    "\n",
    "                # Save transcription to a file\n",
    "                transcript_file = os.path.join(self.output_dir, os.path.basename(file_path) + '.txt')\n",
    "                with open(transcript_file, \"w\") as f:\n",
    "                    f.write(transcription_text)\n",
    "\n",
    "                print(f\"Transcription saved to: {transcript_file}\")\n",
    "\n",
    "                # Move the processed audio file to another folder\n",
    "                shutil.move(file_path, os.path.join(self.processed_dir, os.path.basename(file_path)))\n",
    "\n",
    "                # If conversion occured, delete the converted file \n",
    "                if convert:\n",
    "                    os.remove(output_audio_file)\n",
    "\n",
    "                print(f\"Moved {file_path} to {self.processed_dir}\")\n",
    "\n",
    "        except Exception as e:\n",
    "            print(f\"Error processing file {file_path}: {e}\")\n",
    "\n",
    "if __name__ == \"__main__\":\n",
    "    watch_dir = \"../audio_files_drop\"  # Directory to watch for new files\n",
    "    output_dir = \"../transcripts\"  # Directory to save transcripts\n",
    "    processed_dir = \"../processed_audios\"  # Directory to move processed audio files\n",
    "\n",
    "    os.makedirs(output_dir, exist_ok=True)\n",
    "    os.makedirs(processed_dir, exist_ok=True)\n",
    "\n",
    "    # Initialize Whisper model\n",
    "    model = whisper.load_model(\"large-v2\")\n",
    "\n",
    "    event_handler = AudioFileHandler(model, output_dir, processed_dir)\n",
    "    observer = Observer()\n",
    "    observer.schedule(event_handler, path=watch_dir, recursive=False)\n",
    "    observer.start()\n",
    "\n",
    "    print(f\"Watching directory: {watch_dir}\")\n",
    "\n",
    "    try:\n",
    "        while True:\n",
    "            time.sleep(1)\n",
    "    except KeyboardInterrupt:\n",
    "        observer.stop()\n",
    "    observer.join()"
   ]
  }
 ],
 "metadata": {
  "kernelspec": {
   "display_name": "Python 3",
   "language": "python",
   "name": "python3"
  },
  "language_info": {
   "codemirror_mode": {
    "name": "ipython",
    "version": 3
   },
   "file_extension": ".py",
   "mimetype": "text/x-python",
   "name": "python",
   "nbconvert_exporter": "python",
   "pygments_lexer": "ipython3",
   "version": "3.11.0"
  }
 },
 "nbformat": 4,
 "nbformat_minor": 2
}
